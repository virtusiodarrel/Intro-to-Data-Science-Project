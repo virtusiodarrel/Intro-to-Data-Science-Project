{
 "cells": [
  {
   "cell_type": "markdown",
   "metadata": {},
   "source": [
    "# Introduction to Data Science - Coronavirus COVID 19 Data\n",
    "\n"
   ]
  },
  {
   "cell_type": "markdown",
   "metadata": {},
   "source": [
    "***\n",
    "### DS100-1 / A11\n",
    "\n",
    "\n",
    "#### Group 3\n",
    "1. <b>Jerome Francis Cadorna</b>\n",
    "    - Downloaded the global dataset\n",
    "    - Imported pandas and numpy library\n",
    "   \n",
    "    \n",
    "2. <b>John Patrick Cervantes</b>\n",
    "    - Extracted the data of covid cases, recoveries, and fatalities of both countries from June 2020 to August 2020\n",
    "    - Displayed the tabulated data of both countries\n",
    "    \n",
    "    \n",
    "3. <b>Laurence Kobe Navarro</b>\n",
    "    - Computed the column of difference of total confirmed cases, recoveries, and fatalities between the two countries\n",
    "    - Displayed the tabulated data of the difference of confirmed cases, recoveries, and fatalities between the two countries \n",
    "    \n",
    "    \n",
    "4. <b>Darrel Tristan Virtusio</b>\n",
    "    - Added the additional data of active cases of the two countries\n",
    "    - Displayed the tabulated data of active cases of the two countries\n",
    "***\n"
   ]
  },
  {
   "cell_type": "markdown",
   "metadata": {},
   "source": [
    "***\n",
    "#### COVID-19 Global Dataset hyperlinks: \n",
    "\n",
    "<a href=\"https://data.humdata.org/dataset/novel-coronavirus-2019-ncov-cases\">Main website for the COVID-19 Global Dataset</a>\n",
    "\n",
    "For direct links:\n",
    "\n",
    "<a href=\"https://bit.ly/3h8SVc9\">Global Dataset for confirmed COVID-19 cases</a>\n",
    "\n",
    "<a href=\"https://bit.ly/2R7woBN\">Global Dataset for confirmed COVID-19 deaths</a>\n",
    "         \n",
    "<a href=\"https://bit.ly/2FeKUFB\">Global Dataset for confirmed COVID-19 recoveries</a>\n",
    "***\n"
   ]
  },
  {
   "cell_type": "markdown",
   "metadata": {},
   "source": [
    "\n",
    "## Main Program\n"
   ]
  },
  {
   "cell_type": "markdown",
   "metadata": {},
   "source": [
    "#### Importing Libraries\n"
   ]
  },
  {
   "cell_type": "code",
   "execution_count": 1,
   "metadata": {},
   "outputs": [],
   "source": [
    "# Importing the pandas library\n",
    "import pandas as pd\n",
    "\n",
    "# Importing the numpy library\n",
    "import numpy as np"
   ]
  },
  {
   "cell_type": "markdown",
   "metadata": {},
   "source": [
    "#### Reading the .csv file using pandas"
   ]
  },
  {
   "cell_type": "code",
   "execution_count": 2,
   "metadata": {},
   "outputs": [],
   "source": [
    "# Reading the global dataset of confirmed cases\n",
    "confirmed_cases = pd.read_csv('time_series_covid19_confirmed_global.csv')\n",
    "\n",
    "# Reading the global dataset of recoveries\n",
    "recoveries = pd.read_csv('time_series_covid19_recovered_global.csv')\n",
    "\n",
    "# Reading the global dataset of mortalities\n",
    "deaths = pd.read_csv('time_series_covid19_deaths_global.csv')"
   ]
  },
  {
   "cell_type": "markdown",
   "metadata": {},
   "source": [
    "#### Extracting the confirmed cases, recoveries, and deaths of Peru from June 2020 to August 2020"
   ]
  },
  {
   "cell_type": "code",
   "execution_count": 3,
   "metadata": {},
   "outputs": [],
   "source": [
    "# Number of confirmed cases from Peru (202)\n",
    "confirmed_cases_peru_jun = confirmed_cases.iloc[202, 135]\n",
    "confirmed_cases_peru_aug = confirmed_cases.iloc[202, 226]\n",
    "\n",
    "confirmed_cases_peru = confirmed_cases_peru_aug - confirmed_cases_peru_jun\n",
    "\n",
    "# Number of recoveries from Peru (189)\n",
    "recoveries_peru_jun = recoveries.iloc[189, 135]\n",
    "recoveries_peru_aug = recoveries.iloc[189, 226]\n",
    "\n",
    "recoveries_peru = recoveries_peru_aug - recoveries_peru_jun\n",
    "\n",
    "# Number of deaths from Peru (202)\n",
    "deaths_peru_jun = deaths.iloc[202, 135]\n",
    "deaths_peru_aug = deaths.iloc[202, 226]\n",
    "\n",
    "deaths_peru = deaths_peru_aug - deaths_peru_jun"
   ]
  },
  {
   "cell_type": "markdown",
   "metadata": {},
   "source": [
    "#### Extracting the confirmed cases, recoveries, and deaths of South Africafrom June 2020 to August 2020"
   ]
  },
  {
   "cell_type": "code",
   "execution_count": 4,
   "metadata": {},
   "outputs": [],
   "source": [
    "# Number of confirmed cases from South Africa (224)\n",
    "confirmed_cases_sa_jun = confirmed_cases.iloc[224, 134]\n",
    "confirmed_cases_sa_aug = confirmed_cases.iloc[224, 228]\n",
    "\n",
    "confirmed_cases_sa = confirmed_cases_sa_aug - confirmed_cases_sa_jun\n",
    "\n",
    "# Number of recoveries from South Africa (211)\n",
    "recovery_sa_jun = recoveries.iloc[211, 134]\n",
    "recovery_sa_aug = recoveries.iloc[211, 226]\n",
    "\n",
    "recovery_sa = recovery_sa_aug - recovery_sa_jun\n",
    "\n",
    "# Number of deaths from South Africa (224)\n",
    "death_sa_jun = deaths.iloc[224, 134]\n",
    "death_sa_aug = deaths.iloc[224, 226]\n",
    "\n",
    "death_sa = death_sa_aug - death_sa_jun"
   ]
  },
  {
   "cell_type": "markdown",
   "metadata": {},
   "source": [
    "#### Final table of total cases, recoveries, and deaths of Peru and South Africa from June 2020 to August 2020"
   ]
  },
  {
   "cell_type": "code",
   "execution_count": 5,
   "metadata": {},
   "outputs": [
    {
     "data": {
      "text/html": [
       "<style  type=\"text/css\" >\n",
       "    #T_067fe250_eea9_11ea_a5c9_5076afdc6305row0_col0 {\n",
       "            color:  red;\n",
       "        }    #T_067fe250_eea9_11ea_a5c9_5076afdc6305row0_col1 {\n",
       "            color:  red;\n",
       "        }    #T_067fe250_eea9_11ea_a5c9_5076afdc6305row1_col0 {\n",
       "            color:  red;\n",
       "        }    #T_067fe250_eea9_11ea_a5c9_5076afdc6305row1_col1 {\n",
       "            color:  red;\n",
       "        }    #T_067fe250_eea9_11ea_a5c9_5076afdc6305row2_col0 {\n",
       "            color:  red;\n",
       "        }    #T_067fe250_eea9_11ea_a5c9_5076afdc6305row2_col1 {\n",
       "            color:  red;\n",
       "        }</style><table id=\"T_067fe250_eea9_11ea_a5c9_5076afdc6305\" ><thead>    <tr>        <th class=\"blank level0\" ></th>        <th class=\"col_heading level0 col0\" >Peru</th>        <th class=\"col_heading level0 col1\" >South Africa</th>    </tr>    <tr>        <th class=\"index_name level0\" > </th>        <th class=\"blank\" ></th>        <th class=\"blank\" ></th>    </tr></thead><tbody>\n",
       "                <tr>\n",
       "                        <th id=\"T_067fe250_eea9_11ea_a5c9_5076afdc6305level0_row0\" class=\"row_heading level0 row0\" >Total Cases</th>\n",
       "                        <td id=\"T_067fe250_eea9_11ea_a5c9_5076afdc6305row0_col0\" class=\"data row0 col0\" >477127</td>\n",
       "                        <td id=\"T_067fe250_eea9_11ea_a5c9_5076afdc6305row0_col1\" class=\"data row0 col1\" >597912</td>\n",
       "            </tr>\n",
       "            <tr>\n",
       "                        <th id=\"T_067fe250_eea9_11ea_a5c9_5076afdc6305level0_row1\" class=\"row_heading level0 row1\" >Total Recoveries</th>\n",
       "                        <td id=\"T_067fe250_eea9_11ea_a5c9_5076afdc6305row1_col0\" class=\"data row1 col0\" >386950</td>\n",
       "                        <td id=\"T_067fe250_eea9_11ea_a5c9_5076afdc6305row1_col1\" class=\"data row1 col1\" >524114</td>\n",
       "            </tr>\n",
       "            <tr>\n",
       "                        <th id=\"T_067fe250_eea9_11ea_a5c9_5076afdc6305level0_row2\" class=\"row_heading level0 row2\" >Total Deaths</th>\n",
       "                        <td id=\"T_067fe250_eea9_11ea_a5c9_5076afdc6305row2_col0\" class=\"data row2 col0\" >24154</td>\n",
       "                        <td id=\"T_067fe250_eea9_11ea_a5c9_5076afdc6305row2_col1\" class=\"data row2 col1\" >13466</td>\n",
       "            </tr>\n",
       "    </tbody></table>"
      ],
      "text/plain": [
       "<pandas.io.formats.style.Styler at 0x29f4bb23d48>"
      ]
     },
     "execution_count": 5,
     "metadata": {},
     "output_type": "execute_result"
    }
   ],
   "source": [
    "# Creating a new DataFrame\n",
    "data = {' ':['Total Cases', 'Total Recoveries', 'Total Deaths'], 'Peru':[confirmed_cases_peru, recoveries_peru, deaths_peru], 'South Africa':[confirmed_cases_sa, recovery_sa, death_sa]}\n",
    "df = pd.DataFrame(data)\n",
    "df.set_index(' ', inplace = True)\n",
    "\n",
    "# Displaying the DataFrame\n",
    "def color_negative_red(val):\n",
    "    \n",
    "    color = 'red' if val > 0 else 'black'\n",
    "    return 'color: %s' % color\n",
    "\n",
    "final_df = df.style.applymap(color_negative_red)\n",
    "\n",
    "final_df"
   ]
  },
  {
   "cell_type": "markdown",
   "metadata": {},
   "source": [
    "#### Computation of the difference in total confirmed cases, recoveries, and fatalities of Peru between South Africa"
   ]
  },
  {
   "cell_type": "code",
   "execution_count": 7,
   "metadata": {},
   "outputs": [],
   "source": [
    "# Converting the dataframe to numpy array\n",
    "array = df.to_numpy()\n",
    "\n",
    "# Computing the difference in total cases using numpy\n",
    "difference_cases = abs(np.subtract(array[0,0], array[0,1]))\n",
    "\n",
    "# Computing the difference in total recoveries using numpy\n",
    "difference_recoveries = abs(np.subtract(array[1,0], array[1,1]))\n",
    "\n",
    "# Computing the difference in total fatalities using numpy\n",
    "difference_deaths = abs(np.subtract(array[2,0], array[2,1]))\n",
    "\n",
    "diff = [difference_cases, difference_recoveries, difference_deaths]"
   ]
  },
  {
   "cell_type": "markdown",
   "metadata": {},
   "source": [
    "#### Computation for the difference in active cases between Peru and South Africa"
   ]
  },
  {
   "cell_type": "code",
   "execution_count": 8,
   "metadata": {},
   "outputs": [],
   "source": [
    "# Active case = Total confirmed case - Recoveries - Mortality\n",
    "# Computation of active cases in Peru using numpy\n",
    "initial_1 = np.subtract(array[0,0], array[1,0])\n",
    "total_active_peru = initial_1 - array[2, 0]\n",
    "\n",
    "# Computation of active cases in South Africa using numpy\n",
    "initial_2 = np.subtract(array[0,1], array[1,1])\n",
    "total_active_sa = initial_2 - array[2,1]\n",
    "\n",
    "# Computing the difference between the two countries' active cases\n",
    "diff_total_active = abs(total_active_peru - total_active_sa)\n",
    "\n",
    "# Creating a new dictionary\n",
    "active_case ={' ':['Total Active Case'], 'Peru':[total_active_peru], 'South Africa':[total_active_sa], 'Difference between Peru and South Africa':[diff_total_active]}"
   ]
  },
  {
   "cell_type": "markdown",
   "metadata": {},
   "source": [
    "#### Adding a new column for the difference between two countries"
   ]
  },
  {
   "cell_type": "code",
   "execution_count": 9,
   "metadata": {},
   "outputs": [
    {
     "data": {
      "text/html": [
       "<style  type=\"text/css\" >\n",
       "    #T_0689afa2_eea9_11ea_9e3c_5076afdc6305row0_col0 {\n",
       "            color:  red;\n",
       "        }    #T_0689afa2_eea9_11ea_9e3c_5076afdc6305row0_col1 {\n",
       "            color:  red;\n",
       "        }    #T_0689afa2_eea9_11ea_9e3c_5076afdc6305row0_col2 {\n",
       "            color:  red;\n",
       "        }    #T_0689afa2_eea9_11ea_9e3c_5076afdc6305row1_col0 {\n",
       "            color:  red;\n",
       "        }    #T_0689afa2_eea9_11ea_9e3c_5076afdc6305row1_col1 {\n",
       "            color:  red;\n",
       "        }    #T_0689afa2_eea9_11ea_9e3c_5076afdc6305row1_col2 {\n",
       "            color:  red;\n",
       "        }    #T_0689afa2_eea9_11ea_9e3c_5076afdc6305row2_col0 {\n",
       "            color:  red;\n",
       "        }    #T_0689afa2_eea9_11ea_9e3c_5076afdc6305row2_col1 {\n",
       "            color:  red;\n",
       "        }    #T_0689afa2_eea9_11ea_9e3c_5076afdc6305row2_col2 {\n",
       "            color:  red;\n",
       "        }</style><table id=\"T_0689afa2_eea9_11ea_9e3c_5076afdc6305\" ><thead>    <tr>        <th class=\"blank level0\" ></th>        <th class=\"col_heading level0 col0\" >Peru</th>        <th class=\"col_heading level0 col1\" >South Africa</th>        <th class=\"col_heading level0 col2\" >Difference between Peru and South Africa</th>    </tr>    <tr>        <th class=\"index_name level0\" > </th>        <th class=\"blank\" ></th>        <th class=\"blank\" ></th>        <th class=\"blank\" ></th>    </tr></thead><tbody>\n",
       "                <tr>\n",
       "                        <th id=\"T_0689afa2_eea9_11ea_9e3c_5076afdc6305level0_row0\" class=\"row_heading level0 row0\" >Total Cases</th>\n",
       "                        <td id=\"T_0689afa2_eea9_11ea_9e3c_5076afdc6305row0_col0\" class=\"data row0 col0\" >477127</td>\n",
       "                        <td id=\"T_0689afa2_eea9_11ea_9e3c_5076afdc6305row0_col1\" class=\"data row0 col1\" >597912</td>\n",
       "                        <td id=\"T_0689afa2_eea9_11ea_9e3c_5076afdc6305row0_col2\" class=\"data row0 col2\" >120785</td>\n",
       "            </tr>\n",
       "            <tr>\n",
       "                        <th id=\"T_0689afa2_eea9_11ea_9e3c_5076afdc6305level0_row1\" class=\"row_heading level0 row1\" >Total Recoveries</th>\n",
       "                        <td id=\"T_0689afa2_eea9_11ea_9e3c_5076afdc6305row1_col0\" class=\"data row1 col0\" >386950</td>\n",
       "                        <td id=\"T_0689afa2_eea9_11ea_9e3c_5076afdc6305row1_col1\" class=\"data row1 col1\" >524114</td>\n",
       "                        <td id=\"T_0689afa2_eea9_11ea_9e3c_5076afdc6305row1_col2\" class=\"data row1 col2\" >137164</td>\n",
       "            </tr>\n",
       "            <tr>\n",
       "                        <th id=\"T_0689afa2_eea9_11ea_9e3c_5076afdc6305level0_row2\" class=\"row_heading level0 row2\" >Total Deaths</th>\n",
       "                        <td id=\"T_0689afa2_eea9_11ea_9e3c_5076afdc6305row2_col0\" class=\"data row2 col0\" >24154</td>\n",
       "                        <td id=\"T_0689afa2_eea9_11ea_9e3c_5076afdc6305row2_col1\" class=\"data row2 col1\" >13466</td>\n",
       "                        <td id=\"T_0689afa2_eea9_11ea_9e3c_5076afdc6305row2_col2\" class=\"data row2 col2\" >10688</td>\n",
       "            </tr>\n",
       "    </tbody></table>"
      ],
      "text/plain": [
       "<pandas.io.formats.style.Styler at 0x29f4c4337c8>"
      ]
     },
     "execution_count": 9,
     "metadata": {},
     "output_type": "execute_result"
    }
   ],
   "source": [
    "# Adding the new column of difference in total confirmed cases, recoveries, fatalities for Peru and South Africa\n",
    "df['Difference between Peru and South Africa'] = diff\n",
    "\n",
    "# Displaying the Updated DataFrame\n",
    "def color_negative_red(val):\n",
    "    \n",
    "    color = 'red' if val > 0 else 'black'\n",
    "    return 'color: %s' % color\n",
    "\n",
    "df_des = df.style.applymap(color_negative_red)\n",
    "\n",
    "df_des"
   ]
  },
  {
   "cell_type": "markdown",
   "metadata": {},
   "source": [
    "#### Adding the active cases"
   ]
  },
  {
   "cell_type": "code",
   "execution_count": 10,
   "metadata": {},
   "outputs": [
    {
     "data": {
      "text/html": [
       "<style  type=\"text/css\" >\n",
       "    #T_068c6b9c_eea9_11ea_b464_5076afdc6305row0_col0 {\n",
       "            color:  red;\n",
       "        }    #T_068c6b9c_eea9_11ea_b464_5076afdc6305row0_col1 {\n",
       "            color:  red;\n",
       "        }    #T_068c6b9c_eea9_11ea_b464_5076afdc6305row0_col2 {\n",
       "            color:  red;\n",
       "        }    #T_068c6b9c_eea9_11ea_b464_5076afdc6305row1_col0 {\n",
       "            color:  red;\n",
       "        }    #T_068c6b9c_eea9_11ea_b464_5076afdc6305row1_col1 {\n",
       "            color:  red;\n",
       "        }    #T_068c6b9c_eea9_11ea_b464_5076afdc6305row1_col2 {\n",
       "            color:  red;\n",
       "        }    #T_068c6b9c_eea9_11ea_b464_5076afdc6305row2_col0 {\n",
       "            color:  red;\n",
       "        }    #T_068c6b9c_eea9_11ea_b464_5076afdc6305row2_col1 {\n",
       "            color:  red;\n",
       "        }    #T_068c6b9c_eea9_11ea_b464_5076afdc6305row2_col2 {\n",
       "            color:  red;\n",
       "        }    #T_068c6b9c_eea9_11ea_b464_5076afdc6305row3_col0 {\n",
       "            color:  red;\n",
       "        }    #T_068c6b9c_eea9_11ea_b464_5076afdc6305row3_col1 {\n",
       "            color:  red;\n",
       "        }    #T_068c6b9c_eea9_11ea_b464_5076afdc6305row3_col2 {\n",
       "            color:  red;\n",
       "        }</style><table id=\"T_068c6b9c_eea9_11ea_b464_5076afdc6305\" ><thead>    <tr>        <th class=\"blank level0\" ></th>        <th class=\"col_heading level0 col0\" >Peru</th>        <th class=\"col_heading level0 col1\" >South Africa</th>        <th class=\"col_heading level0 col2\" >Difference between Peru and South Africa</th>    </tr>    <tr>        <th class=\"index_name level0\" > </th>        <th class=\"blank\" ></th>        <th class=\"blank\" ></th>        <th class=\"blank\" ></th>    </tr></thead><tbody>\n",
       "                <tr>\n",
       "                        <th id=\"T_068c6b9c_eea9_11ea_b464_5076afdc6305level0_row0\" class=\"row_heading level0 row0\" >Total Cases</th>\n",
       "                        <td id=\"T_068c6b9c_eea9_11ea_b464_5076afdc6305row0_col0\" class=\"data row0 col0\" >477127</td>\n",
       "                        <td id=\"T_068c6b9c_eea9_11ea_b464_5076afdc6305row0_col1\" class=\"data row0 col1\" >597912</td>\n",
       "                        <td id=\"T_068c6b9c_eea9_11ea_b464_5076afdc6305row0_col2\" class=\"data row0 col2\" >120785</td>\n",
       "            </tr>\n",
       "            <tr>\n",
       "                        <th id=\"T_068c6b9c_eea9_11ea_b464_5076afdc6305level0_row1\" class=\"row_heading level0 row1\" >Total Recoveries</th>\n",
       "                        <td id=\"T_068c6b9c_eea9_11ea_b464_5076afdc6305row1_col0\" class=\"data row1 col0\" >386950</td>\n",
       "                        <td id=\"T_068c6b9c_eea9_11ea_b464_5076afdc6305row1_col1\" class=\"data row1 col1\" >524114</td>\n",
       "                        <td id=\"T_068c6b9c_eea9_11ea_b464_5076afdc6305row1_col2\" class=\"data row1 col2\" >137164</td>\n",
       "            </tr>\n",
       "            <tr>\n",
       "                        <th id=\"T_068c6b9c_eea9_11ea_b464_5076afdc6305level0_row2\" class=\"row_heading level0 row2\" >Total Deaths</th>\n",
       "                        <td id=\"T_068c6b9c_eea9_11ea_b464_5076afdc6305row2_col0\" class=\"data row2 col0\" >24154</td>\n",
       "                        <td id=\"T_068c6b9c_eea9_11ea_b464_5076afdc6305row2_col1\" class=\"data row2 col1\" >13466</td>\n",
       "                        <td id=\"T_068c6b9c_eea9_11ea_b464_5076afdc6305row2_col2\" class=\"data row2 col2\" >10688</td>\n",
       "            </tr>\n",
       "            <tr>\n",
       "                        <th id=\"T_068c6b9c_eea9_11ea_b464_5076afdc6305level0_row3\" class=\"row_heading level0 row3\" >Total Active Case</th>\n",
       "                        <td id=\"T_068c6b9c_eea9_11ea_b464_5076afdc6305row3_col0\" class=\"data row3 col0\" >66023</td>\n",
       "                        <td id=\"T_068c6b9c_eea9_11ea_b464_5076afdc6305row3_col1\" class=\"data row3 col1\" >60332</td>\n",
       "                        <td id=\"T_068c6b9c_eea9_11ea_b464_5076afdc6305row3_col2\" class=\"data row3 col2\" >5691</td>\n",
       "            </tr>\n",
       "    </tbody></table>"
      ],
      "text/plain": [
       "<pandas.io.formats.style.Styler at 0x29f4c425ec8>"
      ]
     },
     "execution_count": 10,
     "metadata": {},
     "output_type": "execute_result"
    }
   ],
   "source": [
    "# Creating new DataFrame for active cases\n",
    "df_active = pd.DataFrame(active_case)\n",
    "df_active.set_index(' ', inplace = True)\n",
    "\n",
    "# Appending the previous DataFrame to the active case DataFrame\n",
    "df_new = df.append(df_active, ignore_index = False)\n",
    "\n",
    "def color_negative_red(val):\n",
    "    \n",
    "    color = 'red' if val > 0 else 'black'\n",
    "    return 'color: %s' % color\n",
    "\n",
    "df_new = df_new.style.applymap(color_negative_red)\n",
    "\n",
    "df_new"
   ]
  },
  {
   "cell_type": "code",
   "execution_count": null,
   "metadata": {},
   "outputs": [],
   "source": []
  }
 ],
 "metadata": {
  "kernelspec": {
   "display_name": "Python 3",
   "language": "python",
   "name": "python3"
  },
  "language_info": {
   "codemirror_mode": {
    "name": "ipython",
    "version": 3
   },
   "file_extension": ".py",
   "mimetype": "text/x-python",
   "name": "python",
   "nbconvert_exporter": "python",
   "pygments_lexer": "ipython3",
   "version": "3.7.4"
  }
 },
 "nbformat": 4,
 "nbformat_minor": 2
}
